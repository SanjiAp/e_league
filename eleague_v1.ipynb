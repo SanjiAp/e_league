{
 "cells": [
  {
   "cell_type": "code",
   "execution_count": 1,
   "metadata": {
    "collapsed": true
   },
   "outputs": [],
   "source": [
    "import pandas as pd"
   ]
  },
  {
   "cell_type": "code",
   "execution_count": 2,
   "metadata": {
    "collapsed": true
   },
   "outputs": [],
   "source": [
    "import numpy as np"
   ]
  },
  {
   "cell_type": "code",
   "execution_count": 3,
   "metadata": {},
   "outputs": [
    {
     "name": "stdout",
     "output_type": "stream",
     "text": [
      "E0 (00).csv\n",
      "E0 (01).csv\n",
      "E0 (02).csv\n",
      "E0 (03).csv\n",
      "E0 (04).csv\n",
      "E0 (05).csv\n",
      "E0 (06).csv\n",
      "E0 (07).csv\n",
      "E0 (08).csv\n",
      "E0 (09).csv\n",
      "E0 (10).csv\n",
      "E0 (11).csv\n",
      "E0 (12).csv\n",
      "E0 (13).csv\n",
      "E0 (14).csv\n",
      "E0 (15).csv\n",
      "E0 (16).csv\n",
      "E0 (17).csv\n",
      "E0 (18).csv\n",
      "E0 (19).csv\n",
      "E0 (20).csv\n",
      "E0 (21).csv\n",
      "E0 (22).csv\n",
      "E0 (23).csv\n",
      "E0 (24).csv\n"
     ]
    }
   ],
   "source": [
    "import glob, os\n",
    "os.chdir(\"F:\\\\Amey work\\\\amey ml\\\\data\\\\\")\n",
    "cols = [\"Div\",\"Date\",\"HomeTeam\",\"AwayTeam\",\"FTHG\",\"FTAG\",\"FTR\"]#,\"HTHG\",\"HTAG\",\"HTR\"]\n",
    "\n",
    "tempdf = pd.DataFrame()\n",
    "for file in glob.glob(\"*.csv\"):\n",
    "    print(file)\n",
    "    tempdf = pd.concat([tempdf,pd.read_csv(file,encoding = 'unicode_escape', usecols = cols)])"
   ]
  },
  {
   "cell_type": "code",
   "execution_count": 4,
   "metadata": {},
   "outputs": [
    {
     "data": {
      "text/html": [
       "<div>\n",
       "<style>\n",
       "    .dataframe thead tr:only-child th {\n",
       "        text-align: right;\n",
       "    }\n",
       "\n",
       "    .dataframe thead th {\n",
       "        text-align: left;\n",
       "    }\n",
       "\n",
       "    .dataframe tbody tr th {\n",
       "        vertical-align: top;\n",
       "    }\n",
       "</style>\n",
       "<table border=\"1\" class=\"dataframe\">\n",
       "  <thead>\n",
       "    <tr style=\"text-align: right;\">\n",
       "      <th></th>\n",
       "      <th>Div</th>\n",
       "      <th>Date</th>\n",
       "      <th>HomeTeam</th>\n",
       "      <th>AwayTeam</th>\n",
       "      <th>FTHG</th>\n",
       "      <th>FTAG</th>\n",
       "      <th>FTR</th>\n",
       "    </tr>\n",
       "  </thead>\n",
       "  <tbody>\n",
       "    <tr>\n",
       "      <th>0</th>\n",
       "      <td>E0</td>\n",
       "      <td>20/08/94</td>\n",
       "      <td>Arsenal</td>\n",
       "      <td>Man City</td>\n",
       "      <td>3.0</td>\n",
       "      <td>0.0</td>\n",
       "      <td>H</td>\n",
       "    </tr>\n",
       "    <tr>\n",
       "      <th>1</th>\n",
       "      <td>E0</td>\n",
       "      <td>20/08/94</td>\n",
       "      <td>Chelsea</td>\n",
       "      <td>Norwich</td>\n",
       "      <td>2.0</td>\n",
       "      <td>0.0</td>\n",
       "      <td>H</td>\n",
       "    </tr>\n",
       "    <tr>\n",
       "      <th>2</th>\n",
       "      <td>E0</td>\n",
       "      <td>20/08/94</td>\n",
       "      <td>Coventry</td>\n",
       "      <td>Wimbledon</td>\n",
       "      <td>1.0</td>\n",
       "      <td>1.0</td>\n",
       "      <td>D</td>\n",
       "    </tr>\n",
       "    <tr>\n",
       "      <th>3</th>\n",
       "      <td>E0</td>\n",
       "      <td>20/08/94</td>\n",
       "      <td>Crystal Palace</td>\n",
       "      <td>Liverpool</td>\n",
       "      <td>1.0</td>\n",
       "      <td>6.0</td>\n",
       "      <td>A</td>\n",
       "    </tr>\n",
       "    <tr>\n",
       "      <th>4</th>\n",
       "      <td>E0</td>\n",
       "      <td>20/08/94</td>\n",
       "      <td>Everton</td>\n",
       "      <td>Aston Villa</td>\n",
       "      <td>2.0</td>\n",
       "      <td>2.0</td>\n",
       "      <td>D</td>\n",
       "    </tr>\n",
       "  </tbody>\n",
       "</table>\n",
       "</div>"
      ],
      "text/plain": [
       "  Div      Date        HomeTeam     AwayTeam  FTHG  FTAG FTR\n",
       "0  E0  20/08/94         Arsenal     Man City   3.0   0.0   H\n",
       "1  E0  20/08/94         Chelsea      Norwich   2.0   0.0   H\n",
       "2  E0  20/08/94        Coventry    Wimbledon   1.0   1.0   D\n",
       "3  E0  20/08/94  Crystal Palace    Liverpool   1.0   6.0   A\n",
       "4  E0  20/08/94         Everton  Aston Villa   2.0   2.0   D"
      ]
     },
     "execution_count": 4,
     "metadata": {},
     "output_type": "execute_result"
    }
   ],
   "source": [
    "tempdf.head()"
   ]
  },
  {
   "cell_type": "code",
   "execution_count": 5,
   "metadata": {},
   "outputs": [
    {
     "data": {
      "text/plain": [
       "(10113, 7)"
      ]
     },
     "execution_count": 5,
     "metadata": {},
     "output_type": "execute_result"
    }
   ],
   "source": [
    "tempdf.shape"
   ]
  },
  {
   "cell_type": "code",
   "execution_count": 6,
   "metadata": {},
   "outputs": [
    {
     "data": {
      "text/plain": [
       "49"
      ]
     },
     "execution_count": 6,
     "metadata": {},
     "output_type": "execute_result"
    }
   ],
   "source": [
    "len(tempdf['HomeTeam'].unique())"
   ]
  },
  {
   "cell_type": "code",
   "execution_count": 7,
   "metadata": {
    "collapsed": true
   },
   "outputs": [],
   "source": [
    "homeGroups = tempdf.groupby('HomeTeam')"
   ]
  },
  {
   "cell_type": "code",
   "execution_count": 8,
   "metadata": {
    "collapsed": true
   },
   "outputs": [],
   "source": [
    "days1 = [10,20,30,45]\n",
    "days = list(range(60,800,30))\n",
    "days = days1 + days\n"
   ]
  },
  {
   "cell_type": "code",
   "execution_count": 13,
   "metadata": {},
   "outputs": [],
   "source": [
    "timeDeltaObjs =  [pd.Timedelta(days=x) for x in days]"
   ]
  },
  {
   "cell_type": "code",
   "execution_count": 14,
   "metadata": {},
   "outputs": [
    {
     "data": {
      "text/plain": [
       "[Timedelta('10 days 00:00:00'),\n",
       " Timedelta('20 days 00:00:00'),\n",
       " Timedelta('30 days 00:00:00'),\n",
       " Timedelta('45 days 00:00:00'),\n",
       " Timedelta('60 days 00:00:00'),\n",
       " Timedelta('90 days 00:00:00'),\n",
       " Timedelta('120 days 00:00:00'),\n",
       " Timedelta('150 days 00:00:00'),\n",
       " Timedelta('180 days 00:00:00'),\n",
       " Timedelta('210 days 00:00:00'),\n",
       " Timedelta('240 days 00:00:00'),\n",
       " Timedelta('270 days 00:00:00'),\n",
       " Timedelta('300 days 00:00:00'),\n",
       " Timedelta('330 days 00:00:00'),\n",
       " Timedelta('360 days 00:00:00'),\n",
       " Timedelta('390 days 00:00:00'),\n",
       " Timedelta('420 days 00:00:00'),\n",
       " Timedelta('450 days 00:00:00'),\n",
       " Timedelta('480 days 00:00:00'),\n",
       " Timedelta('510 days 00:00:00'),\n",
       " Timedelta('540 days 00:00:00'),\n",
       " Timedelta('570 days 00:00:00'),\n",
       " Timedelta('600 days 00:00:00'),\n",
       " Timedelta('630 days 00:00:00'),\n",
       " Timedelta('660 days 00:00:00'),\n",
       " Timedelta('690 days 00:00:00'),\n",
       " Timedelta('720 days 00:00:00'),\n",
       " Timedelta('750 days 00:00:00'),\n",
       " Timedelta('780 days 00:00:00')]"
      ]
     },
     "execution_count": 14,
     "metadata": {},
     "output_type": "execute_result"
    }
   ],
   "source": [
    "timeDeltaObjs"
   ]
  },
  {
   "cell_type": "code",
   "execution_count": 15,
   "metadata": {},
   "outputs": [
    {
     "data": {
      "text/plain": [
       "Index(['Div', 'Date', 'HomeTeam', 'AwayTeam', 'FTHG', 'FTAG', 'FTR'], dtype='object')"
      ]
     },
     "execution_count": 15,
     "metadata": {},
     "output_type": "execute_result"
    }
   ],
   "source": [
    "tempdf.columns"
   ]
  },
  {
   "cell_type": "code",
   "execution_count": 18,
   "metadata": {
    "collapsed": true
   },
   "outputs": [],
   "source": [
    "def parallel(group):\n",
    "    k, df = group\n",
    "    days1 = [10,20,30,45]\n",
    "    days = list(range(60,800,30))\n",
    "    days = days1 + days\n",
    "    timeDeltaObjs =  [pd.Timedelta(days=x) for x in days]\n",
    "    for index, row in df.iterrows():\n",
    "        for idx in range(len(days)):\n",
    "            cond = ((df.HomeTeam == row.HomeTeam and row.FTR == \"H\") or (df.AwayTeam == row.AwayTeam and row.FTR == \"A\"))  and\\\n",
    "            (df.Date > (row.Date - timeDeltaObjs[idx])) & (df.Date < row.Date)\n",
    "            df.loc[index,\"home_count_days_\"+str(days[idx])] = sum(cond)\n",
    "    return df"
   ]
  },
  {
   "cell_type": "code",
   "execution_count": 17,
   "metadata": {
    "collapsed": true
   },
   "outputs": [],
   "source": [
    "from multiprocessing.pool import Pool"
   ]
  },
  {
   "cell_type": "code",
   "execution_count": null,
   "metadata": {
    "collapsed": true
   },
   "outputs": [],
   "source": [
    "with Pool(2) as pool:\n",
    "    result = pd.concat(pool.map(parallel, homeGroups))"
   ]
  },
  {
   "cell_type": "code",
   "execution_count": null,
   "metadata": {
    "collapsed": true
   },
   "outputs": [],
   "source": []
  }
 ],
 "metadata": {
  "kernelspec": {
   "display_name": "Python 3",
   "language": "python",
   "name": "python3"
  },
  "language_info": {
   "codemirror_mode": {
    "name": "ipython",
    "version": 3
   },
   "file_extension": ".py",
   "mimetype": "text/x-python",
   "name": "python",
   "nbconvert_exporter": "python",
   "pygments_lexer": "ipython3",
   "version": "3.6.3"
  }
 },
 "nbformat": 4,
 "nbformat_minor": 2
}
